{
 "cells": [
  {
   "cell_type": "code",
   "execution_count": 3,
   "metadata": {},
   "outputs": [
    {
     "name": "stderr",
     "output_type": "stream",
     "text": [
      "/Users/chunghaolee/Library/Python/3.9/lib/python/site-packages/urllib3/__init__.py:35: NotOpenSSLWarning: urllib3 v2 only supports OpenSSL 1.1.1+, currently the 'ssl' module is compiled with 'LibreSSL 2.8.3'. See: https://github.com/urllib3/urllib3/issues/3020\n",
      "  warnings.warn(\n",
      "Matplotlib is building the font cache; this may take a moment.\n"
     ]
    }
   ],
   "source": [
    "from pybaseball import statcast_batter_expected_stats\n",
    "\n",
    "\n",
    "# get data for batters with a minimum of 150 plate appearances in 2019\n",
    "data = statcast_batter_expected_stats(2019, 150)"
   ]
  },
  {
   "cell_type": "code",
   "execution_count": 7,
   "metadata": {},
   "outputs": [
    {
     "name": "stdout",
     "output_type": "stream",
     "text": [
      "Gathering player lookup table. This may take a moment.\n"
     ]
    }
   ],
   "source": [
    "from pybaseball import playerid_reverse_lookup\n",
    "\n",
    "# a list of mlbam ids\n",
    "player_ids = [116539, 116541, 641728, 116540]\n",
    "\n",
    "# find the names of the players in player_ids, along with their ids from other data sources\n",
    "data = playerid_reverse_lookup(player_ids, key_type='mlbam')\n"
   ]
  },
  {
   "cell_type": "code",
   "execution_count": 8,
   "metadata": {},
   "outputs": [
    {
     "data": {
      "text/html": [
       "<div>\n",
       "<style scoped>\n",
       "    .dataframe tbody tr th:only-of-type {\n",
       "        vertical-align: middle;\n",
       "    }\n",
       "\n",
       "    .dataframe tbody tr th {\n",
       "        vertical-align: top;\n",
       "    }\n",
       "\n",
       "    .dataframe thead th {\n",
       "        text-align: right;\n",
       "    }\n",
       "</style>\n",
       "<table border=\"1\" class=\"dataframe\">\n",
       "  <thead>\n",
       "    <tr style=\"text-align: right;\">\n",
       "      <th></th>\n",
       "      <th>name_last</th>\n",
       "      <th>name_first</th>\n",
       "      <th>key_mlbam</th>\n",
       "      <th>key_retro</th>\n",
       "      <th>key_bbref</th>\n",
       "      <th>key_fangraphs</th>\n",
       "      <th>mlb_played_first</th>\n",
       "      <th>mlb_played_last</th>\n",
       "    </tr>\n",
       "  </thead>\n",
       "  <tbody>\n",
       "    <tr>\n",
       "      <th>0</th>\n",
       "      <td>jeter</td>\n",
       "      <td>shawn</td>\n",
       "      <td>116541</td>\n",
       "      <td>jetes001</td>\n",
       "      <td>jetersh01</td>\n",
       "      <td>1006406</td>\n",
       "      <td>1992.0</td>\n",
       "      <td>1992.0</td>\n",
       "    </tr>\n",
       "    <tr>\n",
       "      <th>1</th>\n",
       "      <td>jeter</td>\n",
       "      <td>derek</td>\n",
       "      <td>116539</td>\n",
       "      <td>jeted001</td>\n",
       "      <td>jeterde01</td>\n",
       "      <td>826</td>\n",
       "      <td>1995.0</td>\n",
       "      <td>2014.0</td>\n",
       "    </tr>\n",
       "    <tr>\n",
       "      <th>2</th>\n",
       "      <td>jeter</td>\n",
       "      <td>johnny</td>\n",
       "      <td>116540</td>\n",
       "      <td>jetej101</td>\n",
       "      <td>jeterjo01</td>\n",
       "      <td>1006405</td>\n",
       "      <td>1969.0</td>\n",
       "      <td>1974.0</td>\n",
       "    </tr>\n",
       "  </tbody>\n",
       "</table>\n",
       "</div>"
      ],
      "text/plain": [
       "  name_last name_first  key_mlbam key_retro  key_bbref  key_fangraphs  \\\n",
       "0     jeter      shawn     116541  jetes001  jetersh01        1006406   \n",
       "1     jeter      derek     116539  jeted001  jeterde01            826   \n",
       "2     jeter     johnny     116540  jetej101  jeterjo01        1006405   \n",
       "\n",
       "   mlb_played_first  mlb_played_last  \n",
       "0            1992.0           1992.0  \n",
       "1            1995.0           2014.0  \n",
       "2            1969.0           1974.0  "
      ]
     },
     "execution_count": 8,
     "metadata": {},
     "output_type": "execute_result"
    }
   ],
   "source": [
    "data"
   ]
  }
 ],
 "metadata": {
  "kernelspec": {
   "display_name": "Python 3",
   "language": "python",
   "name": "python3"
  },
  "language_info": {
   "codemirror_mode": {
    "name": "ipython",
    "version": 3
   },
   "file_extension": ".py",
   "mimetype": "text/x-python",
   "name": "python",
   "nbconvert_exporter": "python",
   "pygments_lexer": "ipython3",
   "version": "3.9.6"
  }
 },
 "nbformat": 4,
 "nbformat_minor": 2
}
